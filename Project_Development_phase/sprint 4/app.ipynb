{
  "nbformat": 4,
  "nbformat_minor": 0,
  "metadata": {
    "colab": {
      "provenance": []
    },
    "kernelspec": {
      "name": "python3",
      "display_name": "Python 3"
    },
    "language_info": {
      "name": "python"
    }
  },
  "cells": [
    {
      "cell_type": "code",
      "source": [
        "from google.colab import drive\n",
        "drive.mount('/content/drive')"
      ],
      "metadata": {
        "colab": {
          "base_uri": "https://localhost:8080/"
        },
        "id": "HHPcxH9_1Anz",
        "outputId": "c7433ada-fb14-410a-bf57-8abf4e29aee2"
      },
      "execution_count": 1,
      "outputs": [
        {
          "output_type": "stream",
          "name": "stdout",
          "text": [
            "Mounted at /content/drive\n"
          ]
        }
      ]
    },
    {
      "cell_type": "code",
      "execution_count": 3,
      "metadata": {
        "colab": {
          "base_uri": "https://localhost:8080/"
        },
        "id": "SO5EX38ETzqY",
        "outputId": "ffff529b-1ab6-41af-d867-72cdf8eb0d16"
      },
      "outputs": [
        {
          "output_type": "stream",
          "name": "stdout",
          "text": [
            "Found 9016 images belonging to 10 classes.\n",
            "Found 3241 images belonging to 10 classes.\n"
          ]
        }
      ],
      "source": [
        "train_path=\"/content/drive/MyDrive/dataset/veg-dataset/train-set\"\n",
        "test_path=\"/content/drive/MyDrive/dataset/veg-dataset/test-set\"\n",
        "\n",
        "from keras.preprocessing.image import ImageDataGenerator\n",
        "train_datagen=ImageDataGenerator(rescale=1./255,shear_range=0.2,zoom_range=0.2,horizontal_flip=True)\n",
        "test_datagen=ImageDataGenerator(rescale=1)\n",
        "\n",
        "x_train=train_datagen.flow_from_directory(train_path,target_size=(128,128),batch_size=2,class_mode='categorical')\n",
        "x_test=test_datagen.flow_from_directory(test_path,target_size=(128,128),batch_size=2,class_mode='categorical')\n",
        "\n",
        "from keras.models import Sequential\n",
        "from keras.layers import Dense\n",
        "from keras.layers import Convolution2D\n",
        "from keras.layers import MaxPooling2D\n",
        "from keras.layers import Flatten\n",
        "\n",
        "model=Sequential()\n",
        "model.add(Convolution2D(32,(3,3),input_shape=(128,128,3),activation='relu'))\n",
        "model.add(MaxPooling2D(pool_size=(2,2)))\n",
        "model.add(Flatten())\n",
        "model.add(Dense(units=300,kernel_initializer='uniform',activation='relu'))\n",
        "\n",
        "model.add(Dense(units=150,kernel_initializer='uniform',activation='relu'))\n",
        "model.add(Dense(units=75,kernel_initializer='uniform',activation='relu'))\n",
        "model.add(Dense(units=9,kernel_initializer='uniform',activation='softmax'))\n",
        "model.compile(loss='categorical_crossentropy',optimizer=\"adam\",metrics=[\"accuracy\"])\n"
      ]
    },
    {
      "cell_type": "code",
      "source": [
        "model.fit(x_train,steps_per_epoch=len(x_train),validation_data=x_test,validation_steps=len(x_test),epochs=1)"
      ],
      "metadata": {
        "id": "eD1t8yh31snl"
      },
      "execution_count": null,
      "outputs": []
    },
    {
      "cell_type": "code",
      "source": [
        "model.save('fruit.h5')\n",
        "model.summary()"
      ],
      "metadata": {
        "colab": {
          "base_uri": "https://localhost:8080/"
        },
        "id": "1isCLBJo1vOW",
        "outputId": "aab60858-ca93-4d08-e648-17718e189879"
      },
      "execution_count": 4,
      "outputs": [
        {
          "output_type": "stream",
          "name": "stdout",
          "text": [
            "Model: \"sequential_1\"\n",
            "_________________________________________________________________\n",
            " Layer (type)                Output Shape              Param #   \n",
            "=================================================================\n",
            " conv2d_1 (Conv2D)           (None, 126, 126, 32)      896       \n",
            "                                                                 \n",
            " max_pooling2d_1 (MaxPooling  (None, 63, 63, 32)       0         \n",
            " 2D)                                                             \n",
            "                                                                 \n",
            " flatten_1 (Flatten)         (None, 127008)            0         \n",
            "                                                                 \n",
            " dense_4 (Dense)             (None, 300)               38102700  \n",
            "                                                                 \n",
            " dense_5 (Dense)             (None, 150)               45150     \n",
            "                                                                 \n",
            " dense_6 (Dense)             (None, 75)                11325     \n",
            "                                                                 \n",
            " dense_7 (Dense)             (None, 9)                 684       \n",
            "                                                                 \n",
            "=================================================================\n",
            "Total params: 38,160,755\n",
            "Trainable params: 38,160,755\n",
            "Non-trainable params: 0\n",
            "_________________________________________________________________\n"
          ]
        }
      ]
    },
    {
      "cell_type": "code",
      "source": [
        "from keras.preprocessing import image\n",
        "from tensorflow.keras.preprocessing.image import img_to_array\n",
        "from tensorflow.keras.preprocessing import image\n",
        "from tensorflow.keras.models import load_model\n",
        "import numpy as nps\n",
        "\n",
        "model=load_model('fruit.h5')\n",
        "\n",
        "img=image.load_img('/content/drive/MyDrive/dataset/fruit-dataset/test/Apple___healthy/02a0f44c-9cbe-4a2e-9710-296692635ec6___RS_HL 5789.JPG',grayscale=False,target_size=(128,128))\n",
        "\n",
        "img\n",
        "\n",
        "x=image.img_to_array(img)\n",
        "x=nps.expand_dims(x,axis=0)\n",
        "\n",
        "pred=(model.predict(x) > 0.5).astype(\"int32\")\n",
        "\n",
        "pred"
      ],
      "metadata": {
        "colab": {
          "base_uri": "https://localhost:8080/"
        },
        "id": "hmFXg4AK1w8o",
        "outputId": "7e2612a4-5f05-45c2-d7e6-713654934df9"
      },
      "execution_count": 5,
      "outputs": [
        {
          "output_type": "stream",
          "name": "stdout",
          "text": [
            "1/1 [==============================] - 0s 129ms/step\n"
          ]
        },
        {
          "output_type": "execute_result",
          "data": {
            "text/plain": [
              "array([[0, 0, 0, 0, 1, 0, 0, 0, 0]], dtype=int32)"
            ]
          },
          "metadata": {},
          "execution_count": 5
        }
      ]
    },
    {
      "cell_type": "code",
      "source": [
        "import requests\n",
        "from tensorflow.keras.preprocessing import image\n",
        "\n",
        "from tensorflow.keras.models import load_model\n",
        "import numpy as np\n",
        "import pandas as pd\n",
        "import tensorflow as tf\n",
        "from flask import Flask, request ,  render_template, redirect, url_for\n",
        "import os\n",
        "from werkzeug.utils import secure_filename\n",
        "from tensorflow.python.keras.backend import set_session\n",
        "\n",
        "app = Flask(__name__)\n",
        "model = load_model(\"fruit.h5\")\n",
        "@app.route('/')\n",
        "def home():\n",
        "  return render_template('home.html')\n",
        "\n",
        "@app.route('/prediction')\n",
        "def prediction():\n",
        "  return render_template('prediction.html')\n",
        "\n",
        "@app.route('/prediction',methods=['POST'])\n",
        "def predict():\n",
        "  if request.method=='POST':\n",
        "    f= request.files['images']\n",
        "    basepath=os.path.dirname(__file__)\n",
        "    file_path==os.path.join(\n",
        "        basepath, 'uploads',secure_filename(f.filename))\n",
        "    f.save(file_path)\n",
        "    img=image.load_img(file_path, target_size=(128,128))\n",
        "    x=image.img_to_array(img)\n",
        "    x=np.expand_dims(x, axis=0)\n",
        "    plant=request.form['plant']\n",
        "    print(plant)\n",
        "    if(plant==\"fruit\"):\n",
        "      preds=model.predict_classess(x)\n",
        "      print(preds)\n",
        "      df=pd.read_excel('precautions-veg.xlsx')\n",
        "      print (df.iloc[preds[0]]['cautions'])\n",
        "    else:\n",
        "      pred=model.predict_classes(x)\n",
        "      df=pd.read_excel('precautions-fruits.xlsx')\n",
        "      print(df.iloc[preds[0]]['caution'])\n",
        "      return df.iloc[preds[0]]['caution']\n",
        "\n",
        "if __name__==\"__main__\":\n",
        "  app.run(debug=False)"
      ],
      "metadata": {
        "colab": {
          "base_uri": "https://localhost:8080/"
        },
        "id": "5rxKAaz01m1Q",
        "outputId": "668a1272-98e5-414f-e64a-ade55226ab67"
      },
      "execution_count": null,
      "outputs": [
        {
          "output_type": "stream",
          "name": "stdout",
          "text": [
            " * Serving Flask app \"__main__\" (lazy loading)\n",
            " * Environment: production\n",
            "\u001b[31m   WARNING: This is a development server. Do not use it in a production deployment.\u001b[0m\n",
            "\u001b[2m   Use a production WSGI server instead.\u001b[0m\n",
            " * Debug mode: off\n"
          ]
        },
        {
          "output_type": "stream",
          "name": "stderr",
          "text": [
            "INFO:werkzeug: * Running on http://127.0.0.1:5000/ (Press CTRL+C to quit)\n"
          ]
        }
      ]
    }
  ]
}